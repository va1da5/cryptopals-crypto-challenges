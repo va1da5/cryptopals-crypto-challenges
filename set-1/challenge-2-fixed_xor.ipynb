{
 "nbformat": 4,
 "nbformat_minor": 2,
 "metadata": {
  "language_info": {
   "name": "python",
   "codemirror_mode": {
    "name": "ipython",
    "version": 3
   },
   "version": "3.8.2-final"
  },
  "orig_nbformat": 2,
  "file_extension": ".py",
  "mimetype": "text/x-python",
  "name": "python",
  "npconvert_exporter": "python",
  "pygments_lexer": "ipython3",
  "version": 3,
  "kernelspec": {
   "name": "python38264bitenvvenv08012e0bc4454a48a0f43863f50804cd",
   "display_name": "Python 3.8.2 64-bit ('.env': venv)"
  }
 },
 "cells": [
  {
   "cell_type": "markdown",
   "metadata": {},
   "source": [
    "### Fixed XOR\n",
    "\n",
    "Write a function that takes two equal-length buffers and produces their XOR combination.\n",
    "\n",
    "If your function works properly, then when you feed it the string:\n",
    "```\n",
    "1c0111001f010100061a024b53535009181c\n",
    "```\n",
    "... after hex decoding, and when XOR'd against:\n",
    "```\n",
    "686974207468652062756c6c277320657965\n",
    "```\n",
    "... should produce:\n",
    "```\n",
    "746865206b696420646f6e277420706c6179\n",
    "```"
   ]
  },
  {
   "cell_type": "code",
   "execution_count": null,
   "metadata": {},
   "outputs": [],
   "source": [
    "def split_into_bytes(buffer):\n",
    "    return [buffer[i:i+2] for i in range(0, len(buffer), 2)]\n",
    "\n",
    "def xor(first_hex, second_hex):\n",
    "    assert(len(first_hex) == len(second_hex))\n",
    "    first_hex_bytes = split_into_bytes(first_hex)\n",
    "    second_hex_bytes = split_into_bytes(second_hex)\n",
    "    output = \"\"\n",
    "\n",
    "    for i in range(len(first_hex_bytes)):\n",
    "        first_byte = int(first_hex_bytes[i], base=16)\n",
    "        second_byte = int(second_hex_bytes[i], base=16)\n",
    "        xor_value = first_byte ^ second_byte\n",
    "        output += format(xor_value, 'x')\n",
    "    \n",
    "    return output\n",
    "\n",
    "first = \"1c0111001f010100061a024b53535009181c\"\n",
    "second = \"686974207468652062756c6c277320657965\"\n",
    "expected = \"746865206b696420646f6e277420706c6179\"\n",
    "\n",
    "assert(xor(first, second) == expected)"
   ]
  },
  {
   "cell_type": "code",
   "execution_count": 7,
   "metadata": {},
   "outputs": [],
   "source": [
    "# Solution from https://laconicwolf.com/2018/05/19/cryptopals-challenge-2-fixed-xor-in-python/\n",
    "\n",
    "def xor(bytes_1, bytes_2):\n",
    "    return bytes([b1 ^ b2 for b1, b2 in zip(bytes_1, bytes_2)])\n",
    "\n",
    "byte_string_1 = bytes.fromhex(\"1c0111001f010100061a024b53535009181c\")\n",
    "byte_string_2 = bytes.fromhex(\"686974207468652062756c6c277320657965\")\n",
    "\n",
    "assert(xor(byte_string_1, byte_string_2).hex() == \"746865206b696420646f6e277420706c6179\")"
   ]
  }
 ]
}
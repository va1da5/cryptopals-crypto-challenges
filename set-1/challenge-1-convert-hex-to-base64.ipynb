{
 "nbformat": 4,
 "nbformat_minor": 2,
 "metadata": {
  "language_info": {
   "name": "python",
   "codemirror_mode": {
    "name": "ipython",
    "version": 3
   },
   "version": "3.8.2-final"
  },
  "orig_nbformat": 2,
  "file_extension": ".py",
  "mimetype": "text/x-python",
  "name": "python",
  "npconvert_exporter": "python",
  "pygments_lexer": "ipython3",
  "version": 3,
  "kernelspec": {
   "name": "python38264bitenvvenv08012e0bc4454a48a0f43863f50804cd",
   "display_name": "Python 3.8.2 64-bit ('.env': venv)"
  }
 },
 "cells": [
  {
   "cell_type": "markdown",
   "metadata": {},
   "source": [
    "### Convert hex to base64\n",
    "\n",
    "The string:\n",
    "```\n",
    "49276d206b696c6c696e6720796f757220627261696e206c696b65206120706f69736f6e6f7573206d757368726f6f6d\n",
    "```\n",
    "Should produce:\n",
    "```\n",
    "SSdtIGtpbGxpbmcgeW91ciBicmFpbiBsaWtlIGEgcG9pc29ub3VzIG11c2hyb29t\n",
    "```\n",
    "So go ahead and make that happen. You'll need to use this code for the rest of the exercises.\n",
    "\n",
    "**Cryptopals Rule**\n",
    "\n",
    "Always operate on raw bytes, never on encoded strings. Only use hex and base64 for pretty-printing.\n"
   ]
  },
  {
   "cell_type": "code",
   "execution_count": 1,
   "metadata": {},
   "outputs": [],
   "source": [
    "import binascii\n",
    "\n",
    "hex_value = \"49276d206b696c6c696e6720796f757220627261696e206c696b65206120706f69736f6e6f7573206d757368726f6f6d\"\n",
    "expected_value = b\"SSdtIGtpbGxpbmcgeW91ciBicmFpbiBsaWtlIGEgcG9pc29ub3VzIG11c2hyb29t\\n\"\n",
    "\n",
    "raw_data = binascii.unhexlify(hex_value)\n",
    "base64_value = binascii.b2a_base64(raw_data)\n",
    "\n",
    "assert base64_value == expected_value"
   ]
  },
  {
   "cell_type": "code",
   "execution_count": 2,
   "metadata": {},
   "outputs": [],
   "source": [
    "import base64\n",
    "\n",
    "hex_value = \"49276d206b696c6c696e6720796f757220627261696e206c696b65206120706f69736f6e6f7573206d757368726f6f6d\"\n",
    "expected_value = b\"SSdtIGtpbGxpbmcgeW91ciBicmFpbiBsaWtlIGEgcG9pc29ub3VzIG11c2hyb29t\"\n",
    "\n",
    "raw_data = b\"\"\n",
    "for hex_byte in [hex_value[i:i+2] for i in range(0, len(hex_value), 2)]:\n",
    "    raw_data += chr(int(hex_byte, base=16)).encode()\n",
    "\n",
    "base64_value = base64.b64encode(raw_data)\n",
    "\n",
    "assert base64_value == expected_value"
   ]
  },
  {
   "cell_type": "code",
   "execution_count": 3,
   "metadata": {},
   "outputs": [],
   "source": [
    "# Solution from https://laconicwolf.com/2018/05/11/cryptopals-challenge-1-and-implementing-base64-encoding-in-python/\n",
    "import base64\n",
    "\n",
    "hex_value = \"49276d206b696c6c696e6720796f757220627261696e206c696b65206120706f69736f6e6f7573206d757368726f6f6d\"\n",
    "expected_value = \"SSdtIGtpbGxpbmcgeW91ciBicmFpbiBsaWtlIGEgcG9pc29ub3VzIG11c2hyb29t\"\n",
    "\n",
    "# https://docs.python.org/3/library/stdtypes.html\n",
    "decoded_hexstring = bytes.fromhex(hex_value)\n",
    "b64_encoded_string = base64.b64encode(decoded_hexstring)\n",
    "\n",
    "assert b64_encoded_string.decode() == expected_value"
   ]
  }
 ]
}
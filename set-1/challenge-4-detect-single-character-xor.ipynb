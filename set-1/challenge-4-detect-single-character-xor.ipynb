{
 "nbformat": 4,
 "nbformat_minor": 2,
 "metadata": {
  "language_info": {
   "name": "python",
   "codemirror_mode": {
    "name": "ipython",
    "version": 3
   },
   "version": "3.8.2-final"
  },
  "orig_nbformat": 2,
  "file_extension": ".py",
  "mimetype": "text/x-python",
  "name": "python",
  "npconvert_exporter": "python",
  "pygments_lexer": "ipython3",
  "version": 3,
  "kernelspec": {
   "name": "python38264bitenvvenv08012e0bc4454a48a0f43863f50804cd",
   "display_name": "Python 3.8.2 64-bit ('.env': venv)"
  }
 },
 "cells": [
  {
   "cell_type": "markdown",
   "metadata": {},
   "source": [
    "### Detect single-character XOR\n",
    "\n",
    "\n",
    "One of the 60-character strings in [this file](challenge-4-file.txt) has been encrypted by single-character XOR.\n",
    "\n",
    "Find it.\n",
    "\n",
    "(Your code from #3 should help.)\n"
   ]
  },
  {
   "cell_type": "code",
   "execution_count": 8,
   "metadata": {},
   "outputs": [
    {
     "output_type": "stream",
     "name": "stdout",
     "text": "Line: 7b5a4215415d544115415d5015455447414c155c46155f4058455c5b523f\nKey: 5,\nFile: b'Now that the party is jumping\\n'\n"
    }
   ],
   "source": [
    "\n",
    "\n",
    "def decrypt(encrypted, passcode):\n",
    "    return bytes([byte ^ passcode for byte in encrypted])\n",
    "\n",
    "def get_english_score(input_bytes):\n",
    "    \"\"\"Compares each input byte to a character frequency \n",
    "    chart and returns the score of a message based on the\n",
    "    relative frequency the characters occur in the English\n",
    "    language\n",
    "    \"\"\"\n",
    "\n",
    "    character_frequencies = {\n",
    "        'a': .08167, 'b': .01492, 'c': .02782, 'd': .04253,\n",
    "        'e': .12702, 'f': .02228, 'g': .02015, 'h': .06094,\n",
    "        'i': .06094, 'j': .00153, 'k': .00772, 'l': .04025,\n",
    "        'm': .02406, 'n': .06749, 'o': .07507, 'p': .01929,\n",
    "        'q': .00095, 'r': .05987, 's': .06327, 't': .09056,\n",
    "        'u': .02758, 'v': .00978, 'w': .02360, 'x': .00150,\n",
    "        'y': .01974, 'z': .00074, ' ': .13000\n",
    "    }\n",
    "    return sum([character_frequencies.get(chr(byte), 0) for byte in input_bytes.lower()])\n",
    "\n",
    "scores = []\n",
    "\n",
    "with open(\"challenge-4-file.txt\", \"r\") as infile:\n",
    "    lines = infile.read().split(\"\\n\")\n",
    "\n",
    "for index, line in enumerate(lines):\n",
    "    buffer = bytes.fromhex(line)\n",
    "    \n",
    "    for key in range(32, 127):\n",
    "        score = get_english_score(decrypt(buffer, key))\n",
    "        scores.append(\n",
    "            (index, key, score)\n",
    "        )\n",
    "\n",
    "\n",
    "scores.sort(key=lambda x: x[2], reverse=True)\n",
    "\n",
    "line_index = scores[0][0]\n",
    "key = scores[0][1]\n",
    "line = lines[line_index]\n",
    "line_buffer = bytes.fromhex(line)\n",
    "\n",
    "print(\"Line: {}\\nKey: {},\\nFile: {}\".format(line, chr(key), decrypt(line_buffer, key)))\n",
    "\n"
   ]
  }
 ]
}
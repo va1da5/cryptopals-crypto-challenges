{
 "nbformat": 4,
 "nbformat_minor": 2,
 "metadata": {
  "language_info": {
   "name": "python",
   "codemirror_mode": {
    "name": "ipython",
    "version": 3
   },
   "version": "3.8.2-final"
  },
  "orig_nbformat": 2,
  "file_extension": ".py",
  "mimetype": "text/x-python",
  "name": "python",
  "npconvert_exporter": "python",
  "pygments_lexer": "ipython3",
  "version": 3,
  "kernelspec": {
   "name": "python38264bitenvvenv08012e0bc4454a48a0f43863f50804cd",
   "display_name": "Python 3.8.2 64-bit ('.env': venv)"
  }
 },
 "cells": [
  {
   "cell_type": "markdown",
   "metadata": {},
   "source": [
    "### Implement repeating-key XOR\n",
    "\n",
    "Here is the opening stanza of an important work of the English language:\n",
    "\n",
    "```\n",
    "Burning 'em, if you ain't quick and nimble\n",
    "I go crazy when I hear a cymbal\n",
    "```\n",
    "\n",
    "Encrypt it, under the key \"ICE\", using repeating-key XOR.\n",
    "\n",
    "In repeating-key XOR, you'll sequentially apply each byte of the key; the first byte of plaintext will be XOR'd against I, the next C, the next E, then I again for the 4th byte, and so on.\n",
    "\n",
    "It should come out to:\n",
    "\n",
    "```\n",
    "0b3637272a2b2e63622c2e69692a23693a2a3c6324202d623d63343c2a26226324272765272a282b2f20430a652e2c652a3124333a653e2b2027630c692b20283165286326302e27282f\n",
    "```\n",
    "\n",
    "Encrypt a bunch of stuff using your repeating-key XOR function. Encrypt your mail. Encrypt your password file. Your .sig file. Get a feel for it. I promise, we aren't wasting your time with this.\n"
   ]
  },
  {
   "cell_type": "code",
   "execution_count": 5,
   "metadata": {},
   "outputs": [],
   "source": [
    "import itertools\n",
    "\n",
    "def encrypt(buffer, passphrase):\n",
    "    character = itertools.cycle(passphrase)\n",
    "    return bytes([byte ^ next(character) for byte in buffer])\n",
    "\n",
    "string = b\"Burning 'em, if you ain't quick and nimble\\nI go crazy when I hear a cymbal\"\n",
    "key = b\"ICE\"\n",
    "\n",
    "encrypted = encrypt(string, key).hex()\n",
    "\n",
    "expected_value = \"0b3637272a2b2e63622c2e69692a23693a2a3c6324202d623d63343c2a26226324272765272a282b2f20430a652e2c652a3124333a653e2b2027630c692b20283165286326302e27282f\"\n",
    "\n",
    "assert(encrypted == expected_value)"
   ]
  }
 ]
}
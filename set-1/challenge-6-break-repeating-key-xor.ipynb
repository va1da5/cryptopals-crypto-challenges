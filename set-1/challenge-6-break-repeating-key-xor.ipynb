{
 "nbformat": 4,
 "nbformat_minor": 2,
 "metadata": {
  "language_info": {
   "name": "python",
   "codemirror_mode": {
    "name": "ipython",
    "version": 3
   },
   "version": "3.8.2-final"
  },
  "orig_nbformat": 2,
  "file_extension": ".py",
  "mimetype": "text/x-python",
  "name": "python",
  "npconvert_exporter": "python",
  "pygments_lexer": "ipython3",
  "version": 3,
  "kernelspec": {
   "name": "python38264bitenvvenv08012e0bc4454a48a0f43863f50804cd",
   "display_name": "Python 3.8.2 64-bit ('.env': venv)"
  }
 },
 "cells": [
  {
   "cell_type": "markdown",
   "metadata": {},
   "source": [
    "### Break repeating-key XOR\n",
    "\n",
    "#### It is officially on, now.\n",
    "\n",
    "This challenge isn't conceptually hard, but it involves actual error-prone coding. The other challenges in this set are there to bring you up to speed. This one is there to **qualify** you. If you can do this one, you're probably just fine up to Set 6.\n",
    "\n",
    "[There's a file here](challenge-6-file.txt). It's been base64'd after being encrypted with repeating-key XOR.\n",
    "\n",
    "Decrypt it.\n",
    "\n",
    "Here's how:\n",
    "\n",
    "1. Let KEYSIZE be the guessed length of the key; try values from 2 to (say) 40.\n",
    "\n",
    "2. Write a function to compute the edit distance/Hamming distance between two strings. The Hamming distance is just the number of differing bits. The distance between:\n",
    "\n",
    "    ```\n",
    "    this is a test\n",
    "    ``` \n",
    "\n",
    "    and\n",
    "\n",
    "    ```\n",
    "    wokka wokka!!!\n",
    "    ```\n",
    "\n",
    "    is **37**. Make sure your code agrees before you proceed.\n",
    "\n",
    "3. For each KEYSIZE, take the first KEYSIZE worth of bytes, and the second KEYSIZE worth of bytes, and find the edit distance between them. Normalize this result by dividing by KEYSIZE.\n",
    "4. The KEYSIZE with the smallest normalized edit distance is probably the key. You could proceed perhaps with the smallest 2-3 KEYSIZE values. Or take 4 KEYSIZE blocks instead of 2 and average the distances.\n",
    "5. Now that you probably know the KEYSIZE: break the ciphertext into blocks of KEYSIZE length.\n",
    "6. Now transpose the blocks: make a block that is the first byte of every block, and a block that is the second byte of every block, and so on.\n",
    "7. Solve each block as if it was single-character XOR. You already have code to do this.\n",
    "8. For each block, the single-byte XOR key that produces the best looking histogram is the repeating-key XOR key byte for that block. Put them together and you have the key.\n",
    "\n",
    "\n",
    "This code is going to turn out to be surprisingly useful later on. Breaking repeating-key XOR (\"Vigenere\") statistically is obviously an academic exercise, a \"Crypto 101\" thing. But more people \"know how\" to break it than can actually break it, and a similar technique breaks something much more important."
   ]
  },
  {
   "cell_type": "code",
   "execution_count": 11,
   "metadata": {},
   "outputs": [],
   "source": [
    "def str_to_bin(buffer):\n",
    "    bin_list = [format(b, 'b').zfill(8) for b in buffer]\n",
    "    return ''.join(bin_list).encode()\n",
    "\n",
    "def haming_distance(buffer_1, buffer_2):\n",
    "    bin_1 = str_to_bin(buffer_1)\n",
    "    bin_2 = str_to_bin(buffer_2)\n",
    "    return len(list(filter(lambda x: x[0]^x[1], zip(bin_1, bin_2))))\n",
    "\n",
    "assert(haming_distance(b\"this is a test\", b\"wokka wokka!!!\") == 37)\n",
    ""
   ]
  }
 ]
}
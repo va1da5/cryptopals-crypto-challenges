{
 "nbformat": 4,
 "nbformat_minor": 2,
 "metadata": {
  "language_info": {
   "name": "python",
   "codemirror_mode": {
    "name": "ipython",
    "version": 3
   },
   "version": "3.8.2-final"
  },
  "orig_nbformat": 2,
  "file_extension": ".py",
  "mimetype": "text/x-python",
  "name": "python",
  "npconvert_exporter": "python",
  "pygments_lexer": "ipython3",
  "version": 3,
  "kernelspec": {
   "name": "python38264bitenvvenv08012e0bc4454a48a0f43863f50804cd",
   "display_name": "Python 3.8.2 64-bit ('.env': venv)"
  }
 },
 "cells": [
  {
   "cell_type": "markdown",
   "metadata": {},
   "source": [
    "### Detect AES in ECB mode\n",
    "\n",
    "[In this file](challenge-8-file.txt) are a bunch of hex-encoded ciphertexts.\n",
    "\n",
    "One of them has been encrypted with ECB.\n",
    "\n",
    "Detect it.\n",
    "\n",
    "Remember that the problem with ECB is that it is stateless and deterministic; **the same 16 byte plaintext block will always produce the same 16 byte ciphertext**."
   ]
  },
  {
   "cell_type": "code",
   "execution_count": 17,
   "metadata": {},
   "outputs": [
    {
     "output_type": "stream",
     "name": "stdout",
     "text": "d880619740a8a19b7840a8a31c810a3d08649af70dc06f4fd5d2d69c744cd283e2dd052f6b641dbf9d11b0348542bb5708649af70dc06f4fd5d2d69c744cd2839475c9dfdbc1d46597949d9c7e82bf5a08649af70dc06f4fd5d2d69c744cd28397a93eab8d6aecd566489154789a6b0308649af70dc06f4fd5d2d69c744cd283d403180c98c8f6db1f2a3f9c4040deb0ab51b29933f2c123c58386b06fba186a\n"
    }
   ],
   "source": [
    "def detect_aes_ecb_ciphertext(ciphertexts):\n",
    "    keysize = 16\n",
    "    for ascii_line in ciphertexts:\n",
    "        ciphertext = bytes.fromhex(ascii_line)\n",
    "        blocks = [ciphertext[n:n+keysize] for n in range(0, len(ciphertext), keysize)]\n",
    "        if len(blocks) != len(set(blocks)): # found repeating pattern\n",
    "            return ascii_line\n",
    "\n",
    "with open(\"challenge-8-file.txt\", \"r\") as infile:\n",
    "    ciphertext_list = infile.read().split(\"\\n\")\n",
    "\n",
    "\n",
    "result = detect_aes_ecb_ciphertext(ciphertext_list)\n",
    "print(result)"
   ]
  }
 ]
}
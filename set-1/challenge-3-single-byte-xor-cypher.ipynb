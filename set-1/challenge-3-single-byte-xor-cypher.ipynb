{
 "nbformat": 4,
 "nbformat_minor": 2,
 "metadata": {
  "language_info": {
   "name": "python",
   "codemirror_mode": {
    "name": "ipython",
    "version": 3
   },
   "version": "3.8.2-final"
  },
  "orig_nbformat": 2,
  "file_extension": ".py",
  "mimetype": "text/x-python",
  "name": "python",
  "npconvert_exporter": "python",
  "pygments_lexer": "ipython3",
  "version": 3,
  "kernelspec": {
   "name": "python38264bitenvvenv08012e0bc4454a48a0f43863f50804cd",
   "display_name": "Python 3.8.2 64-bit ('.env': venv)"
  }
 },
 "cells": [
  {
   "cell_type": "markdown",
   "metadata": {},
   "source": [
    "### Single-byte XOR cipher\n",
    "\n",
    "The hex encoded string:\n",
    "```\n",
    "1b37373331363f78151b7f2b783431333d78397828372d363c78373e783a393b3736\n",
    "```\n",
    "... has been XOR'd against a single character. Find the key, decrypt the message.\n",
    "\n",
    "You can do this by hand. But don't: write code to do it for you.\n",
    "\n",
    "How? Devise some method for \"scoring\" a piece of English plaintext. Character frequency is a good metric. Evaluate each output and choose the one with the best score.\n"
   ]
  },
  {
   "cell_type": "code",
   "execution_count": 1,
   "metadata": {},
   "outputs": [
    {
     "output_type": "stream",
     "name": "stdout",
     "text": "b\"Cooking MC's like a pound of bacon\"\n"
    }
   ],
   "source": [
    "def decrypt(encrypted, passcode):\n",
    "    return bytes([byte ^ passcode for byte in encrypted])\n",
    "\n",
    "\n",
    "def in_ascii_range(buffer):\n",
    "    int_list = [ b for b in buffer]\n",
    "    max_value = max(int_list)\n",
    "    min_value = min(int_list)\n",
    "    if min_value < 32 or max_value > 126:\n",
    "        return False\n",
    "    return True\n",
    "\n",
    "def get_common_letters_score(buffer):\n",
    "    letter_list = [chr(b).lower() for b in buffer]\n",
    "    uniq_letters = set(letter_list)\n",
    "    \n",
    "    letters_with_count = []\n",
    "    for letter in uniq_letters:\n",
    "        letters_with_count.append((letter, letter_list.count(letter)))\n",
    "    letters_with_count.sort(key=lambda item: item[1], reverse=True)\n",
    "\n",
    "    score = 0\n",
    "    most_common_letter = \"ETAOINSRHLDCU\"\n",
    "\n",
    "    for i in range(len(most_common_letter)):\n",
    "        if letters_with_count[i][0] in most_common_letter.lower():\n",
    "            score += len(most_common_letter) - i\n",
    "    return score\n",
    "\n",
    "\n",
    "encrypted = bytes.fromhex(\"1b37373331363f78151b7f2b783431333d78397828372d363c78373e783a393b3736\")\n",
    "\n",
    "scores = []\n",
    "\n",
    "for ch in range(32, 127):\n",
    "    decrypted = decrypt(encrypted, ch)\n",
    "    if not in_ascii_range(decrypted):\n",
    "        continue\n",
    "    scores.append(\n",
    "        (chr(ch), get_common_letters_score(decrypted))\n",
    "    )\n",
    "\n",
    "scores.sort(key=lambda x: x[1], reverse=True)\n",
    "\n",
    "key = ord(scores[0][0])\n",
    "\n",
    "print(decrypt(encrypted, key))"
   ]
  },
  {
   "cell_type": "code",
   "execution_count": 2,
   "metadata": {},
   "outputs": [
    {
     "output_type": "stream",
     "name": "stdout",
     "text": "Message: b\"Cooking MC's like a pound of bacon\"\nScore: 2.14329\nKey: 88\n"
    }
   ],
   "source": [
    "# Solution from https://laconicwolf.com/2018/05/29/cryptopals-challenge-3-single-byte-xor-cipher-in-python/\n",
    "def get_english_score(input_bytes):\n",
    "    \"\"\"Compares each input byte to a character frequency \n",
    "    chart and returns the score of a message based on the\n",
    "    relative frequency the characters occur in the English\n",
    "    language\n",
    "    \"\"\"\n",
    "\n",
    "    # From https://en.wikipedia.org/wiki/Letter_frequency\n",
    "    # with the exception of ' ', which I estimated.\n",
    "    character_frequencies = {\n",
    "        'a': .08167, 'b': .01492, 'c': .02782, 'd': .04253,\n",
    "        'e': .12702, 'f': .02228, 'g': .02015, 'h': .06094,\n",
    "        'i': .06094, 'j': .00153, 'k': .00772, 'l': .04025,\n",
    "        'm': .02406, 'n': .06749, 'o': .07507, 'p': .01929,\n",
    "        'q': .00095, 'r': .05987, 's': .06327, 't': .09056,\n",
    "        'u': .02758, 'v': .00978, 'w': .02360, 'x': .00150,\n",
    "        'y': .01974, 'z': .00074, ' ': .13000\n",
    "    }\n",
    "    return sum([character_frequencies.get(chr(byte), 0) for byte in input_bytes.lower()])\n",
    "\n",
    "def single_char_xor(input_bytes, char_value):\n",
    "    \"\"\"Returns the result of each byte being XOR'd with a single value.\n",
    "    \"\"\"\n",
    "    output_bytes = b''\n",
    "    for byte in input_bytes:\n",
    "        output_bytes += bytes([byte ^ char_value])\n",
    "    return output_bytes\n",
    "\n",
    "hexstring = '1b37373331363f78151b7f2b783431333d78397828372d363c78373e783a393b3736'\n",
    "ciphertext = bytes.fromhex(hexstring)\n",
    "potential_messages = []\n",
    "for key_value in range(256):\n",
    "    message = single_char_xor(ciphertext, key_value)\n",
    "    score = get_english_score(message)\n",
    "    data = {\n",
    "        'message': message,\n",
    "        'score': score,\n",
    "        'key': key_value\n",
    "        }\n",
    "    potential_messages.append(data)\n",
    "best_score = sorted(potential_messages, key=lambda x: x['score'], reverse=True)[0]\n",
    "for item in best_score:\n",
    "    print(\"{}: {}\".format(item.title(), best_score[item]))"
   ]
  }
 ]
}